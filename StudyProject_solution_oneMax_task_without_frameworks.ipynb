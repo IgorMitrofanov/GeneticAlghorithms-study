{
 "cells": [
  {
   "cell_type": "code",
   "execution_count": 2,
   "id": "301991f2",
   "metadata": {},
   "outputs": [],
   "source": [
    "import random\n",
    "import matplotlib.pyplot as plt"
   ]
  },
  {
   "cell_type": "code",
   "execution_count": 3,
   "id": "33c4280c",
   "metadata": {},
   "outputs": [],
   "source": [
    "ONE_MAX_LENGTH = 100 # длинна хромосомы\n",
    "POPULATION_SIZE = 200 # число индивидуумов в популяции\n",
    "P_CROSSOVER = 0.9 # вероятность кроссинговера (скрещивания особей)\n",
    "P_MUTATION = 0.1 # вероятность мутации\n",
    "MAX_GENERATIONS = 50 # максимальное число поколений\n",
    "\n",
    "RANDOM_SEED = 42\n",
    "random.seed(RANDOM_SEED)"
   ]
  },
  {
   "cell_type": "markdown",
   "id": "a4eece15",
   "metadata": {},
   "source": [
    "Класс для хранения значения функции приспособленности, создан для совместимости остальных классов с api пакета библиотеки ГА `DEAP`:"
   ]
  },
  {
   "cell_type": "code",
   "execution_count": 4,
   "id": "7823bd67",
   "metadata": {},
   "outputs": [],
   "source": [
    "class FitnessMax():\n",
    "    def __init__(self):\n",
    "        self.values = [0] # начальначя приспособленность особи"
   ]
  },
  {
   "cell_type": "markdown",
   "id": "e4aa7732",
   "metadata": {},
   "source": [
    "Класс индивидуума, наследуется от базового класса списка:"
   ]
  },
  {
   "cell_type": "code",
   "execution_count": 5,
   "id": "154d719c",
   "metadata": {},
   "outputs": [],
   "source": [
    "class Individual(list):\n",
    "    def __init__(self, *args):\n",
    "        super().__init__(*args) # конструктор базового класса\n",
    "        self.fitness = FitnessMax()"
   ]
  },
  {
   "cell_type": "markdown",
   "id": "fe5f59b1",
   "metadata": {},
   "source": [
    "Фунция приспособленности:"
   ]
  },
  {
   "cell_type": "code",
   "execution_count": 6,
   "id": "554688e1",
   "metadata": {},
   "outputs": [],
   "source": [
    "def oneMaxFitness(individual): \n",
    "    return sum(individual), # кортеж"
   ]
  },
  {
   "cell_type": "markdown",
   "id": "0cdbbba5",
   "metadata": {},
   "source": [
    "Создает отдельного индивида:"
   ]
  },
  {
   "cell_type": "code",
   "execution_count": 7,
   "id": "eed31d1c",
   "metadata": {},
   "outputs": [],
   "source": [
    "def individualCreator():\n",
    "    return Individual([random.randint(0, 1) for i in range(ONE_MAX_LENGTH)])"
   ]
  },
  {
   "cell_type": "markdown",
   "id": "5f94bc95",
   "metadata": {},
   "source": [
    "Создает популяцию:"
   ]
  },
  {
   "cell_type": "code",
   "execution_count": 8,
   "id": "481bbe9d",
   "metadata": {},
   "outputs": [],
   "source": [
    "def populationCreator(n = 0):\n",
    "    return list([individualCreator() for i in range(n)])"
   ]
  },
  {
   "cell_type": "markdown",
   "id": "42a21847",
   "metadata": {},
   "source": [
    "Создадим начальную популяцию:"
   ]
  },
  {
   "cell_type": "code",
   "execution_count": 9,
   "id": "2d7c6707",
   "metadata": {},
   "outputs": [],
   "source": [
    "population = populationCreator(n=POPULATION_SIZE)\n",
    "generationCounter = 0"
   ]
  },
  {
   "cell_type": "markdown",
   "id": "7739fe5a",
   "metadata": {},
   "source": [
    "Вычисляем приспособленность каждой особи в начальной популяции:"
   ]
  },
  {
   "cell_type": "code",
   "execution_count": 10,
   "id": "208212f0",
   "metadata": {},
   "outputs": [],
   "source": [
    "fitnessValues = list(map(oneMaxFitness, population))"
   ]
  },
  {
   "cell_type": "markdown",
   "id": "72daaf92",
   "metadata": {},
   "source": [
    "И запишем ее для каждого индивидуума:"
   ]
  },
  {
   "cell_type": "code",
   "execution_count": 11,
   "id": "1b3191dd",
   "metadata": {},
   "outputs": [],
   "source": [
    "for individual, fitnessValue in zip(population, fitnessValues):\n",
    "    individual.fitness.values = fitnessValue"
   ]
  },
  {
   "cell_type": "markdown",
   "id": "4a65f981",
   "metadata": {},
   "source": [
    "Списки для статистики работы алгоритма:"
   ]
  },
  {
   "cell_type": "code",
   "execution_count": 12,
   "id": "1eff252c",
   "metadata": {},
   "outputs": [],
   "source": [
    "maxFitnessValues = []\n",
    "meanFitnessValues = []"
   ]
  },
  {
   "cell_type": "markdown",
   "id": "3780e78f",
   "metadata": {},
   "source": [
    "Клонирование отдельного индивидуума после отбора (чтобы один и тот же индивидуум не мог отобраться дважды):"
   ]
  },
  {
   "cell_type": "code",
   "execution_count": 13,
   "id": "6d8a2503",
   "metadata": {},
   "outputs": [],
   "source": [
    "def clone(value):\n",
    "    ind = Individual(value[:])\n",
    "    ind.fitness.values[0] = value.fitness.values[0]\n",
    "    return ind"
   ]
  },
  {
   "cell_type": "markdown",
   "id": "84c3d3b7",
   "metadata": {},
   "source": [
    "Функция турнирного отбора особей:"
   ]
  },
  {
   "cell_type": "code",
   "execution_count": 14,
   "id": "9926154d",
   "metadata": {},
   "outputs": [],
   "source": [
    "def selTournament(population, p_len):\n",
    "    offspring = []\n",
    "    for n in range(p_len):\n",
    "        i1 = i2 = i3 = 0 \n",
    "        while i1 == i2 or i1 == i3 or i2 == i3: # отбор трех особей с разными индексами\n",
    "            i1, i2, i3 = random.randint(0, p_len-1), random.randint(0, p_len-1), random.randint(0, p_len-1)\n",
    "        # отбор особи с максимальной приспособленности\n",
    "        offspring.append(max([population[i1], population[i2], population[i3]], key=lambda ind: ind.fitness.values[0]))\n",
    "    return offspring # возврат нового поколения"
   ]
  },
  {
   "cell_type": "markdown",
   "id": "26b36c15",
   "metadata": {},
   "source": [
    "Одноточенный кроссинговер:"
   ]
  },
  {
   "cell_type": "code",
   "execution_count": 15,
   "id": "ff39851d",
   "metadata": {},
   "outputs": [],
   "source": [
    "def cxOnePoint(child1, child2):\n",
    "    s = random.randint(2, len(child1) - 3)\n",
    "    child1[s:], child2[s:] = child2[s:], child1[s:]  "
   ]
  },
  {
   "cell_type": "markdown",
   "id": "40c47198",
   "metadata": {},
   "source": [
    "Мутация:"
   ]
  },
  {
   "cell_type": "code",
   "execution_count": 16,
   "id": "d9bafb7b",
   "metadata": {},
   "outputs": [],
   "source": [
    "def mutFlipBit(mutant, indpb=0.01):\n",
    "    for indx in range(len(mutant)):\n",
    "        if random.random() < indpb:\n",
    "            mutant[indx] = 0 if mutant[indx] == 1 else 1 # инверсия бита"
   ]
  },
  {
   "cell_type": "markdown",
   "id": "ec5f69ba",
   "metadata": {},
   "source": [
    "Коллекция со значениями приспособленности особей в популяции:"
   ]
  },
  {
   "cell_type": "code",
   "execution_count": 17,
   "id": "7b5997b1",
   "metadata": {},
   "outputs": [],
   "source": [
    "fitnessValues = [individual.fitness.values[0] for individual in population]"
   ]
  },
  {
   "cell_type": "markdown",
   "id": "98323628",
   "metadata": {},
   "source": [
    "Главный цикл работы ГА:"
   ]
  },
  {
   "cell_type": "code",
   "execution_count": 18,
   "id": "16569dfd",
   "metadata": {
    "scrolled": false
   },
   "outputs": [
    {
     "name": "stdout",
     "output_type": "stream",
     "text": [
      "Поколение 1: Макс. приспособл. = 63, Средняя приспособл. = 53.53\n",
      "Лучший индивидум (хромосома) =  [1, 1, 1, 0, 1, 1, 1, 0, 1, 0, 1, 1, 0, 1, 0, 0, 0, 0, 1, 0, 0, 0, 1, 0, 1, 1, 1, 1, 1, 1, 1, 1, 0, 0, 1, 1, 1, 0, 0, 1, 1, 1, 1, 1, 1, 0, 1, 0, 0, 1, 1, 0, 1, 1, 1, 1, 1, 0, 0, 1, 0, 1, 1, 1, 1, 1, 1, 0, 0, 0, 1, 0, 1, 1, 0, 1, 1, 1, 0, 1, 0, 1, 0, 0, 1, 1, 1, 1, 1, 1, 1, 0, 0, 0, 0, 1, 1, 0, 1, 1] \n",
      "\n",
      "Поколение 2: Макс. приспособл. = 66, Средняя приспособл. = 56.625\n",
      "Лучший индивидум (хромосома) =  [1, 0, 0, 1, 0, 1, 1, 0, 1, 0, 0, 1, 1, 1, 0, 1, 1, 0, 0, 0, 1, 0, 1, 1, 0, 0, 1, 1, 1, 1, 1, 1, 1, 1, 0, 1, 1, 1, 0, 0, 1, 1, 1, 1, 1, 1, 1, 0, 1, 1, 1, 0, 0, 1, 1, 0, 1, 1, 0, 1, 1, 1, 1, 1, 1, 0, 1, 1, 1, 1, 0, 1, 0, 1, 0, 1, 1, 0, 0, 1, 1, 1, 1, 1, 0, 1, 1, 1, 0, 1, 1, 1, 0, 0, 1, 1, 0, 0, 0, 1] \n",
      "\n",
      "Поколение 3: Макс. приспособл. = 67, Средняя приспособл. = 59.245\n",
      "Лучший индивидум (хромосома) =  [0, 1, 1, 1, 0, 1, 1, 0, 1, 1, 1, 1, 1, 1, 1, 0, 1, 0, 1, 0, 0, 0, 1, 1, 1, 1, 0, 1, 1, 0, 0, 0, 0, 0, 1, 0, 0, 1, 1, 0, 1, 1, 1, 1, 1, 0, 1, 1, 1, 1, 1, 0, 0, 1, 1, 0, 1, 1, 0, 1, 1, 1, 1, 1, 1, 0, 1, 1, 1, 1, 0, 1, 0, 1, 0, 1, 1, 0, 0, 1, 1, 1, 1, 1, 0, 1, 1, 1, 0, 1, 1, 1, 0, 0, 1, 1, 1, 0, 1, 1] \n",
      "\n",
      "Поколение 4: Макс. приспособл. = 70, Средняя приспособл. = 61.97\n",
      "Лучший индивидум (хромосома) =  [1, 1, 1, 1, 1, 1, 1, 1, 0, 1, 0, 0, 1, 0, 0, 1, 1, 1, 1, 0, 1, 0, 1, 1, 0, 0, 1, 1, 1, 1, 1, 1, 1, 1, 0, 1, 1, 1, 0, 0, 1, 1, 1, 1, 1, 1, 1, 0, 1, 1, 1, 0, 0, 1, 1, 0, 1, 1, 0, 1, 1, 1, 1, 1, 1, 0, 1, 1, 1, 1, 0, 1, 0, 1, 1, 1, 1, 1, 1, 0, 0, 1, 0, 0, 0, 1, 1, 0, 1, 0, 1, 0, 1, 0, 1, 1, 1, 0, 1, 1] \n",
      "\n",
      "Поколение 5: Макс. приспособл. = 72, Средняя приспособл. = 64.375\n",
      "Лучший индивидум (хромосома) =  [1, 0, 0, 1, 1, 0, 1, 0, 1, 1, 1, 1, 1, 1, 1, 1, 1, 1, 1, 1, 1, 1, 0, 1, 0, 1, 1, 1, 1, 1, 1, 0, 0, 0, 0, 1, 1, 0, 0, 1, 1, 1, 0, 1, 1, 1, 0, 1, 1, 0, 0, 1, 0, 1, 0, 1, 1, 0, 1, 1, 0, 1, 1, 0, 0, 1, 1, 1, 1, 1, 1, 1, 1, 1, 1, 1, 1, 1, 1, 0, 0, 0, 0, 1, 1, 1, 1, 1, 1, 1, 1, 1, 1, 1, 1, 0, 1, 0, 1, 1] \n",
      "\n",
      "Поколение 6: Макс. приспособл. = 73, Средняя приспособл. = 66.69\n",
      "Лучший индивидум (хромосома) =  [0, 1, 1, 1, 1, 1, 1, 0, 1, 0, 0, 1, 1, 1, 1, 1, 1, 0, 0, 0, 1, 0, 1, 1, 0, 0, 1, 1, 1, 1, 1, 1, 1, 1, 0, 1, 1, 1, 0, 1, 1, 1, 1, 1, 1, 1, 1, 0, 1, 1, 1, 0, 0, 1, 1, 0, 1, 1, 1, 1, 1, 1, 1, 1, 1, 0, 1, 1, 1, 1, 0, 1, 0, 1, 0, 1, 1, 0, 0, 1, 1, 1, 1, 1, 0, 1, 1, 1, 0, 1, 1, 1, 0, 0, 1, 1, 1, 0, 1, 1] \n",
      "\n",
      "Поколение 7: Макс. приспособл. = 75, Средняя приспособл. = 69.045\n",
      "Лучший индивидум (хромосома) =  [1, 1, 1, 1, 1, 1, 1, 1, 0, 1, 0, 0, 1, 0, 0, 1, 1, 1, 1, 0, 1, 0, 1, 1, 0, 0, 1, 1, 1, 1, 1, 1, 1, 1, 0, 1, 1, 1, 0, 0, 1, 1, 1, 1, 1, 1, 1, 0, 1, 1, 1, 0, 0, 1, 1, 0, 1, 1, 0, 1, 1, 1, 1, 1, 1, 0, 1, 1, 1, 1, 1, 1, 0, 1, 1, 0, 1, 1, 0, 0, 0, 1, 1, 1, 1, 1, 1, 1, 1, 1, 1, 1, 1, 1, 1, 0, 1, 0, 1, 1] \n",
      "\n",
      "Поколение 8: Макс. приспособл. = 77, Средняя приспособл. = 70.94\n",
      "Лучший индивидум (хромосома) =  [1, 1, 1, 1, 0, 1, 1, 1, 1, 1, 1, 1, 1, 0, 1, 1, 1, 0, 0, 1, 1, 1, 0, 1, 0, 1, 1, 1, 1, 1, 1, 1, 1, 1, 0, 1, 1, 1, 0, 0, 1, 1, 1, 1, 1, 1, 1, 1, 1, 1, 1, 0, 1, 1, 1, 1, 1, 0, 0, 1, 0, 1, 1, 1, 1, 1, 1, 0, 0, 0, 1, 0, 1, 1, 1, 1, 1, 1, 1, 0, 0, 0, 0, 1, 1, 1, 1, 1, 1, 1, 1, 1, 1, 1, 1, 0, 1, 0, 1, 1] \n",
      "\n",
      "Поколение 9: Макс. приспособл. = 79, Средняя приспособл. = 72.905\n",
      "Лучший индивидум (хромосома) =  [0, 1, 1, 1, 1, 1, 1, 1, 0, 1, 0, 1, 1, 1, 0, 1, 1, 0, 1, 1, 1, 0, 1, 1, 1, 1, 1, 0, 1, 1, 1, 1, 0, 1, 1, 1, 1, 1, 1, 1, 1, 1, 1, 1, 1, 1, 1, 0, 1, 1, 1, 0, 0, 1, 1, 0, 1, 1, 0, 1, 1, 1, 1, 1, 1, 0, 1, 1, 1, 1, 1, 1, 0, 1, 1, 0, 1, 1, 0, 0, 0, 1, 1, 1, 1, 1, 1, 1, 1, 1, 1, 1, 1, 1, 1, 0, 1, 0, 1, 1] \n",
      "\n",
      "Поколение 10: Макс. приспособл. = 81, Средняя приспособл. = 74.91\n",
      "Лучший индивидум (хромосома) =  [0, 1, 1, 1, 1, 1, 1, 1, 0, 1, 0, 1, 0, 0, 1, 1, 1, 1, 1, 0, 1, 1, 1, 0, 0, 1, 1, 1, 1, 1, 1, 1, 1, 1, 1, 1, 1, 1, 1, 1, 1, 1, 1, 1, 1, 1, 1, 0, 1, 1, 1, 0, 1, 1, 1, 1, 1, 1, 0, 1, 1, 1, 1, 1, 1, 0, 1, 1, 1, 1, 0, 1, 0, 1, 1, 1, 1, 1, 1, 0, 0, 1, 1, 1, 1, 1, 0, 1, 0, 1, 1, 1, 1, 1, 1, 1, 1, 0, 1, 1] \n",
      "\n",
      "Поколение 11: Макс. приспособл. = 83, Средняя приспособл. = 76.71\n",
      "Лучший индивидум (хромосома) =  [1, 0, 1, 1, 1, 0, 1, 1, 1, 1, 1, 1, 1, 0, 1, 1, 1, 1, 1, 0, 1, 1, 1, 0, 0, 1, 1, 1, 1, 1, 1, 1, 1, 1, 1, 1, 1, 1, 1, 1, 1, 1, 1, 1, 1, 1, 1, 0, 1, 1, 1, 0, 1, 1, 1, 1, 1, 1, 0, 1, 1, 1, 1, 1, 1, 0, 1, 1, 1, 1, 0, 1, 0, 1, 1, 1, 1, 1, 1, 0, 0, 1, 1, 1, 1, 1, 0, 1, 0, 1, 1, 1, 1, 1, 1, 1, 1, 0, 1, 1] \n",
      "\n",
      "Поколение 12: Макс. приспособл. = 85, Средняя приспособл. = 78.505\n",
      "Лучший индивидум (хромосома) =  [0, 1, 1, 1, 1, 1, 1, 1, 0, 1, 1, 1, 1, 1, 1, 1, 1, 1, 1, 1, 1, 1, 0, 1, 0, 1, 1, 1, 1, 1, 1, 1, 0, 1, 1, 1, 1, 1, 1, 1, 1, 1, 1, 1, 1, 1, 1, 1, 1, 1, 1, 1, 1, 1, 1, 1, 1, 0, 1, 1, 1, 0, 1, 1, 1, 1, 1, 1, 0, 1, 1, 1, 1, 1, 0, 0, 0, 0, 1, 0, 0, 1, 1, 1, 1, 1, 1, 1, 1, 1, 1, 1, 1, 1, 1, 0, 1, 1, 1, 1] \n",
      "\n",
      "Поколение 13: Макс. приспособл. = 87, Средняя приспособл. = 79.885\n",
      "Лучший индивидум (хромосома) =  [1, 1, 1, 1, 1, 1, 1, 1, 0, 1, 1, 1, 1, 1, 1, 1, 1, 1, 1, 1, 1, 1, 1, 0, 0, 1, 1, 1, 1, 1, 1, 1, 1, 1, 1, 1, 1, 1, 1, 1, 1, 1, 1, 1, 1, 1, 1, 1, 1, 1, 1, 0, 1, 1, 1, 1, 1, 0, 0, 1, 1, 1, 1, 1, 1, 0, 1, 1, 1, 1, 0, 1, 0, 1, 1, 1, 1, 1, 1, 0, 0, 1, 1, 1, 1, 1, 1, 1, 1, 1, 1, 1, 1, 1, 1, 0, 1, 0, 1, 1] \n",
      "\n",
      "Поколение 14: Макс. приспособл. = 88, Средняя приспособл. = 81.325\n",
      "Лучший индивидум (хромосома) =  [1, 1, 1, 1, 1, 1, 1, 1, 0, 1, 1, 1, 1, 1, 1, 1, 1, 1, 1, 1, 1, 1, 1, 0, 0, 1, 1, 1, 1, 1, 1, 1, 1, 1, 1, 1, 1, 1, 1, 1, 1, 1, 1, 1, 1, 1, 1, 1, 1, 1, 1, 0, 1, 1, 1, 1, 1, 0, 0, 1, 1, 1, 1, 1, 1, 0, 1, 1, 1, 1, 0, 1, 0, 1, 1, 1, 1, 1, 1, 0, 0, 1, 1, 1, 1, 1, 1, 1, 1, 1, 1, 1, 1, 1, 1, 1, 1, 0, 1, 1] \n",
      "\n",
      "Поколение 15: Макс. приспособл. = 88, Средняя приспособл. = 82.995\n",
      "Лучший индивидум (хромосома) =  [1, 1, 1, 1, 1, 1, 1, 1, 1, 1, 1, 1, 1, 0, 1, 1, 1, 1, 1, 0, 1, 1, 1, 1, 0, 1, 1, 1, 1, 1, 1, 1, 1, 1, 1, 1, 1, 1, 1, 1, 1, 1, 1, 1, 1, 1, 1, 1, 1, 1, 1, 0, 1, 1, 1, 1, 1, 0, 0, 1, 1, 1, 1, 1, 1, 0, 1, 1, 1, 1, 0, 1, 0, 1, 1, 1, 1, 1, 1, 0, 0, 1, 1, 1, 1, 1, 1, 1, 1, 1, 1, 1, 1, 1, 1, 1, 1, 0, 1, 1] \n",
      "\n",
      "Поколение 16: Макс. приспособл. = 89, Средняя приспособл. = 84.685\n",
      "Лучший индивидум (хромосома) =  [1, 1, 1, 1, 1, 1, 1, 1, 1, 1, 1, 1, 1, 0, 1, 1, 1, 1, 1, 0, 1, 1, 1, 1, 0, 1, 1, 1, 1, 1, 1, 1, 1, 1, 1, 1, 1, 1, 1, 1, 1, 1, 1, 1, 1, 1, 1, 1, 1, 1, 1, 1, 1, 1, 1, 1, 1, 0, 1, 1, 0, 1, 1, 1, 1, 1, 1, 1, 1, 1, 1, 1, 0, 1, 1, 0, 1, 1, 0, 0, 0, 1, 1, 1, 1, 1, 1, 1, 1, 1, 1, 1, 1, 1, 1, 0, 1, 1, 1, 1] \n",
      "\n",
      "Поколение 17: Макс. приспособл. = 89, Средняя приспособл. = 86.425\n",
      "Лучший индивидум (хромосома) =  [1, 1, 1, 1, 1, 1, 1, 1, 1, 1, 1, 1, 1, 1, 1, 1, 1, 1, 1, 1, 1, 1, 1, 0, 0, 1, 1, 1, 1, 1, 1, 1, 1, 1, 1, 1, 1, 1, 1, 1, 1, 1, 1, 1, 1, 1, 1, 1, 1, 1, 1, 0, 1, 1, 1, 1, 1, 0, 0, 1, 1, 1, 1, 1, 1, 0, 1, 1, 1, 1, 1, 1, 0, 1, 1, 1, 1, 1, 1, 0, 0, 1, 1, 1, 1, 1, 1, 1, 1, 1, 1, 1, 1, 1, 1, 0, 1, 0, 1, 1] \n",
      "\n",
      "Поколение 18: Макс. приспособл. = 91, Средняя приспособл. = 87.48\n",
      "Лучший индивидум (хромосома) =  [1, 1, 1, 1, 1, 1, 1, 1, 0, 1, 1, 1, 1, 1, 1, 1, 1, 1, 1, 1, 1, 1, 0, 1, 0, 1, 1, 1, 1, 1, 1, 1, 1, 1, 1, 1, 1, 1, 1, 1, 1, 1, 1, 1, 1, 1, 1, 1, 1, 1, 1, 1, 1, 1, 1, 1, 1, 0, 1, 1, 1, 1, 1, 1, 1, 0, 1, 1, 1, 1, 0, 1, 0, 1, 1, 1, 1, 1, 1, 0, 0, 1, 1, 1, 1, 1, 1, 1, 1, 1, 1, 1, 1, 1, 1, 1, 1, 1, 1, 1] \n",
      "\n",
      "Поколение 19: Макс. приспособл. = 91, Средняя приспособл. = 88.29\n",
      "Лучший индивидум (хромосома) =  [1, 1, 1, 1, 1, 1, 1, 1, 1, 1, 1, 1, 1, 0, 1, 1, 1, 1, 1, 0, 1, 1, 1, 1, 0, 1, 1, 1, 1, 1, 1, 1, 1, 1, 1, 1, 1, 1, 1, 1, 1, 1, 1, 1, 1, 1, 1, 1, 1, 1, 1, 1, 1, 1, 1, 1, 1, 0, 0, 1, 1, 1, 1, 1, 1, 0, 1, 1, 1, 1, 1, 1, 0, 1, 1, 1, 1, 1, 1, 0, 0, 1, 1, 1, 1, 1, 1, 1, 1, 1, 1, 1, 1, 1, 1, 1, 1, 1, 1, 1] \n",
      "\n",
      "Поколение 20: Макс. приспособл. = 92, Средняя приспособл. = 89.12\n",
      "Лучший индивидум (хромосома) =  [1, 1, 1, 1, 1, 1, 1, 1, 1, 1, 1, 1, 1, 1, 1, 1, 1, 1, 1, 1, 1, 1, 0, 1, 0, 1, 1, 1, 1, 1, 1, 1, 1, 1, 1, 1, 1, 1, 1, 1, 1, 1, 1, 1, 1, 1, 1, 1, 1, 1, 1, 1, 1, 1, 1, 1, 1, 0, 1, 1, 1, 1, 1, 1, 1, 0, 1, 1, 1, 1, 0, 1, 0, 1, 1, 1, 1, 1, 1, 0, 0, 1, 1, 1, 1, 1, 1, 1, 1, 1, 1, 1, 1, 1, 1, 1, 1, 1, 1, 1] \n",
      "\n",
      "Поколение 21: Макс. приспособл. = 92, Средняя приспособл. = 89.865\n",
      "Лучший индивидум (хромосома) =  [1, 1, 1, 1, 1, 1, 1, 1, 1, 1, 1, 1, 1, 1, 1, 1, 1, 1, 1, 1, 1, 1, 0, 1, 0, 1, 1, 1, 1, 1, 1, 1, 1, 1, 1, 1, 1, 1, 1, 1, 1, 1, 1, 1, 1, 1, 1, 1, 1, 1, 1, 1, 1, 1, 1, 1, 1, 0, 1, 1, 1, 1, 1, 1, 1, 0, 1, 1, 1, 1, 0, 1, 0, 1, 1, 1, 1, 1, 1, 0, 0, 1, 1, 1, 1, 1, 1, 1, 1, 1, 1, 1, 1, 1, 1, 1, 1, 1, 1, 1] \n",
      "\n",
      "Поколение 22: Макс. приспособл. = 93, Средняя приспособл. = 90.605\n",
      "Лучший индивидум (хромосома) =  [1, 1, 1, 1, 1, 1, 1, 1, 1, 1, 1, 1, 1, 1, 1, 1, 1, 1, 1, 1, 1, 1, 1, 1, 0, 1, 1, 1, 1, 1, 1, 1, 1, 1, 1, 1, 1, 1, 1, 1, 1, 1, 1, 1, 1, 1, 1, 1, 1, 1, 1, 1, 1, 1, 1, 1, 1, 0, 1, 1, 1, 1, 1, 1, 1, 0, 1, 1, 1, 1, 1, 1, 0, 1, 1, 1, 1, 1, 1, 0, 0, 1, 1, 1, 1, 1, 1, 1, 1, 1, 1, 1, 1, 1, 1, 1, 1, 0, 1, 1] \n",
      "\n",
      "Поколение 23: Макс. приспособл. = 94, Средняя приспособл. = 91.405\n",
      "Лучший индивидум (хромосома) =  [1, 1, 1, 1, 1, 1, 1, 1, 1, 1, 1, 1, 1, 1, 1, 1, 1, 1, 1, 1, 1, 1, 1, 1, 0, 1, 1, 1, 1, 1, 1, 1, 1, 1, 1, 1, 1, 1, 1, 1, 1, 1, 1, 1, 1, 1, 1, 1, 1, 1, 1, 1, 1, 1, 1, 1, 1, 0, 1, 1, 0, 1, 1, 1, 1, 1, 1, 1, 1, 1, 1, 1, 0, 1, 0, 1, 1, 1, 0, 1, 1, 1, 1, 1, 1, 1, 1, 1, 1, 1, 1, 1, 1, 1, 1, 1, 1, 1, 1, 1] \n",
      "\n",
      "Поколение 24: Макс. приспособл. = 95, Средняя приспособл. = 92.065\n",
      "Лучший индивидум (хромосома) =  [1, 1, 1, 1, 1, 1, 1, 1, 1, 1, 1, 1, 1, 1, 1, 1, 1, 1, 1, 1, 1, 1, 1, 1, 0, 1, 1, 1, 1, 1, 1, 1, 1, 1, 1, 1, 1, 1, 1, 1, 1, 1, 1, 1, 1, 1, 1, 1, 1, 1, 1, 1, 1, 1, 1, 1, 1, 0, 1, 1, 1, 1, 1, 1, 1, 1, 1, 1, 1, 1, 1, 1, 0, 1, 0, 1, 1, 1, 0, 1, 1, 1, 1, 1, 1, 1, 1, 1, 1, 1, 1, 1, 1, 1, 1, 1, 1, 1, 1, 1] \n",
      "\n",
      "Поколение 25: Макс. приспособл. = 95, Средняя приспособл. = 92.715\n",
      "Лучший индивидум (хромосома) =  [1, 1, 1, 1, 1, 1, 1, 1, 1, 1, 1, 1, 1, 1, 1, 1, 1, 1, 1, 1, 1, 1, 1, 1, 0, 1, 1, 1, 1, 1, 1, 1, 1, 1, 1, 1, 1, 1, 1, 1, 1, 1, 1, 1, 1, 1, 1, 1, 1, 1, 1, 1, 1, 1, 1, 1, 1, 0, 1, 1, 1, 1, 1, 1, 1, 1, 1, 1, 1, 1, 1, 1, 0, 1, 0, 1, 1, 1, 0, 1, 1, 1, 1, 1, 1, 1, 1, 1, 1, 1, 1, 1, 1, 1, 1, 1, 1, 1, 1, 1] \n",
      "\n",
      "Поколение 26: Макс. приспособл. = 95, Средняя приспособл. = 93.33\n",
      "Лучший индивидум (хромосома) =  [1, 1, 1, 1, 1, 1, 1, 1, 1, 1, 1, 1, 1, 1, 1, 1, 1, 1, 1, 1, 1, 1, 1, 1, 0, 1, 1, 1, 1, 1, 1, 1, 1, 1, 1, 1, 1, 1, 1, 1, 1, 1, 1, 1, 1, 1, 1, 1, 1, 1, 1, 1, 1, 1, 1, 1, 1, 0, 1, 1, 1, 1, 1, 1, 1, 1, 1, 1, 1, 1, 1, 1, 0, 1, 0, 1, 1, 1, 0, 1, 1, 1, 1, 1, 1, 1, 1, 1, 1, 1, 1, 1, 1, 1, 1, 1, 1, 1, 1, 1] \n",
      "\n",
      "Поколение 27: Макс. приспособл. = 96, Средняя приспособл. = 93.85\n",
      "Лучший индивидум (хромосома) =  [1, 1, 1, 1, 1, 1, 1, 1, 1, 1, 1, 1, 1, 1, 1, 1, 1, 1, 1, 1, 1, 1, 1, 1, 0, 1, 1, 1, 1, 1, 1, 1, 1, 1, 1, 1, 1, 1, 1, 1, 1, 1, 1, 1, 1, 1, 1, 1, 1, 1, 1, 1, 1, 1, 1, 1, 1, 0, 1, 1, 1, 1, 1, 1, 1, 1, 1, 1, 1, 1, 1, 1, 1, 1, 1, 1, 1, 1, 1, 0, 0, 1, 1, 1, 1, 1, 1, 1, 1, 1, 1, 1, 1, 1, 1, 1, 1, 1, 1, 1] \n",
      "\n",
      "Поколение 28: Макс. приспособл. = 98, Средняя приспособл. = 94.485\n",
      "Лучший индивидум (хромосома) =  [1, 1, 1, 1, 1, 1, 1, 1, 1, 1, 1, 1, 1, 1, 1, 1, 1, 1, 1, 1, 1, 1, 1, 1, 0, 1, 1, 1, 1, 1, 1, 1, 1, 1, 1, 1, 1, 1, 1, 1, 1, 1, 1, 1, 1, 1, 1, 1, 1, 1, 1, 1, 1, 1, 1, 1, 1, 0, 1, 1, 1, 1, 1, 1, 1, 1, 1, 1, 1, 1, 1, 1, 1, 1, 1, 1, 1, 1, 1, 1, 1, 1, 1, 1, 1, 1, 1, 1, 1, 1, 1, 1, 1, 1, 1, 1, 1, 1, 1, 1] \n",
      "\n",
      "Поколение 29: Макс. приспособл. = 98, Средняя приспособл. = 95.0\n",
      "Лучший индивидум (хромосома) =  [1, 1, 1, 1, 1, 1, 1, 1, 1, 1, 1, 1, 1, 1, 1, 1, 1, 1, 1, 1, 1, 1, 1, 1, 0, 1, 1, 1, 1, 1, 1, 1, 1, 1, 1, 1, 1, 1, 1, 1, 1, 1, 1, 1, 1, 1, 1, 1, 1, 1, 1, 1, 1, 1, 1, 1, 1, 0, 1, 1, 1, 1, 1, 1, 1, 1, 1, 1, 1, 1, 1, 1, 1, 1, 1, 1, 1, 1, 1, 1, 1, 1, 1, 1, 1, 1, 1, 1, 1, 1, 1, 1, 1, 1, 1, 1, 1, 1, 1, 1] \n",
      "\n",
      "Поколение 30: Макс. приспособл. = 98, Средняя приспособл. = 95.61\n",
      "Лучший индивидум (хромосома) =  [1, 1, 1, 1, 1, 1, 1, 1, 1, 1, 1, 1, 1, 1, 1, 1, 1, 1, 1, 1, 1, 1, 1, 1, 0, 1, 1, 1, 1, 1, 1, 1, 1, 1, 1, 1, 1, 1, 1, 1, 1, 1, 1, 1, 1, 1, 1, 1, 1, 1, 1, 1, 1, 1, 1, 1, 1, 0, 1, 1, 1, 1, 1, 1, 1, 1, 1, 1, 1, 1, 1, 1, 1, 1, 1, 1, 1, 1, 1, 1, 1, 1, 1, 1, 1, 1, 1, 1, 1, 1, 1, 1, 1, 1, 1, 1, 1, 1, 1, 1] \n",
      "\n",
      "Поколение 31: Макс. приспособл. = 98, Средняя приспособл. = 96.355\n",
      "Лучший индивидум (хромосома) =  [1, 1, 1, 1, 1, 1, 1, 1, 1, 1, 1, 1, 1, 1, 1, 1, 1, 1, 1, 1, 1, 1, 1, 1, 0, 1, 1, 1, 1, 1, 1, 1, 1, 1, 1, 1, 1, 1, 1, 1, 1, 1, 1, 1, 1, 1, 1, 1, 1, 1, 1, 1, 1, 1, 1, 1, 1, 0, 1, 1, 1, 1, 1, 1, 1, 1, 1, 1, 1, 1, 1, 1, 1, 1, 1, 1, 1, 1, 1, 1, 1, 1, 1, 1, 1, 1, 1, 1, 1, 1, 1, 1, 1, 1, 1, 1, 1, 1, 1, 1] \n",
      "\n",
      "Поколение 32: Макс. приспособл. = 99, Средняя приспособл. = 97.035\n",
      "Лучший индивидум (хромосома) =  [1, 1, 1, 1, 1, 1, 1, 1, 1, 1, 1, 1, 1, 1, 1, 1, 1, 1, 1, 1, 1, 1, 1, 0, 1, 1, 1, 1, 1, 1, 1, 1, 1, 1, 1, 1, 1, 1, 1, 1, 1, 1, 1, 1, 1, 1, 1, 1, 1, 1, 1, 1, 1, 1, 1, 1, 1, 1, 1, 1, 1, 1, 1, 1, 1, 1, 1, 1, 1, 1, 1, 1, 1, 1, 1, 1, 1, 1, 1, 1, 1, 1, 1, 1, 1, 1, 1, 1, 1, 1, 1, 1, 1, 1, 1, 1, 1, 1, 1, 1] \n",
      "\n",
      "Поколение 33: Макс. приспособл. = 100, Средняя приспособл. = 97.59\n",
      "Лучший индивидум (хромосома) =  [1, 1, 1, 1, 1, 1, 1, 1, 1, 1, 1, 1, 1, 1, 1, 1, 1, 1, 1, 1, 1, 1, 1, 1, 1, 1, 1, 1, 1, 1, 1, 1, 1, 1, 1, 1, 1, 1, 1, 1, 1, 1, 1, 1, 1, 1, 1, 1, 1, 1, 1, 1, 1, 1, 1, 1, 1, 1, 1, 1, 1, 1, 1, 1, 1, 1, 1, 1, 1, 1, 1, 1, 1, 1, 1, 1, 1, 1, 1, 1, 1, 1, 1, 1, 1, 1, 1, 1, 1, 1, 1, 1, 1, 1, 1, 1, 1, 1, 1, 1] \n",
      "\n"
     ]
    },
    {
     "data": {
      "image/png": "[encoded data removed]",
      "text/plain": [
       "<Figure size 640x480 with 1 Axes>"
      ]
     },
     "metadata": {},
     "output_type": "display_data"
    }
   ],
   "source": [
    "while max(fitnessValues) < ONE_MAX_LENGTH and generationCounter < MAX_GENERATIONS:\n",
    "    generationCounter += 1\n",
    "    offspring = selTournament(population, len(population)) # отбор лучших особей с помощью турнирного отбора\n",
    "    offspring = list(map(clone, offspring)) # клонирование отобранных особей\n",
    "    \n",
    "    # скрещивание четной и нечетной особи с помощью одноточечного кроссинговера\n",
    "    for child1, child2 in zip(offspring[::2], offspring[1::2]):\n",
    "        if random.random() < P_CROSSOVER:\n",
    "            cxOnePoint(child1, child2)\n",
    "            \n",
    "    # мутации в новом поколении\n",
    "    for mutant in offspring:\n",
    "        if random.random() < P_MUTATION:\n",
    "            mutFlipBit(mutant, indpb=1.0/ONE_MAX_LENGTH)\n",
    "            \n",
    "    # обновление приспособленности новой популяции\n",
    "    freshFitnessValues = list(map(oneMaxFitness, offspring))\n",
    "    for individual, fitnessValue in zip(offspring, freshFitnessValues):\n",
    "        individual.fitness.values = fitnessValue \n",
    "    \n",
    "    # обновление списка популяции\n",
    "    population[:] = offspring\n",
    "    \n",
    "    # обновление значений приспособленности новой популяции\n",
    "    fitnessValues = [ind.fitness.values[0] for ind in population]\n",
    "    \n",
    "    # формируем статистику\n",
    "    maxFitness = max(fitnessValues)\n",
    "    meanFitness = sum(fitnessValues) / len(population)\n",
    "    maxFitnessValues.append(maxFitness)\n",
    "    meanFitnessValues.append(meanFitness)\n",
    "    \n",
    "    print(f'Поколение {generationCounter}: Макс. приспособл. = {maxFitness}, Средняя приспособл. = {meanFitness}')\n",
    "    \n",
    "    best_index = fitnessValues.index(max(fitnessValues))\n",
    "    print('Лучший индивидум (хромосома) = ', population[best_index], '\\n')\n",
    "    \n",
    "    \n",
    "plt.plot(maxFitnessValues, color='red')\n",
    "plt.plot(meanFitnessValues, color='green')\n",
    "plt.xlabel('Поколение')\n",
    "plt.ylabel('Приспособленность особи')\n",
    "plt.title('Зависимость максимальной и средней приспособленности от поколения')\n",
    "plt.show()"
   ]
  }
 ],
 "metadata": {
  "kernelspec": {
   "display_name": "Python 3 (ipykernel)",
   "language": "python",
   "name": "python3"
  },
  "language_info": {
   "codemirror_mode": {
    "name": "ipython",
    "version": 3
   },
   "file_extension": ".py",
   "mimetype": "text/x-python",
   "name": "python",
   "nbconvert_exporter": "python",
   "pygments_lexer": "ipython3",
   "version": "3.9.13"
  }
 },
 "nbformat": 4,
 "nbformat_minor": 5
}
