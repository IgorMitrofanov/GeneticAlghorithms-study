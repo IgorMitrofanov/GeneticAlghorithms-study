{
 "cells": [
  {
   "cell_type": "markdown",
   "id": "aa9c4695",
   "metadata": {},
   "source": [
    "# Знакомство с DEAP"
   ]
  },
  {
   "cell_type": "markdown",
   "id": "71d4bb2d",
   "metadata": {},
   "source": [
    "DEAP - Distributed Evolutionary Algorithms in Python (распределенные эволюционные алгоритмы на Python)."
   ]
  },
  {
   "cell_type": "code",
   "execution_count": 1,
   "id": "10da3a2d",
   "metadata": {},
   "outputs": [],
   "source": [
    "from deap import base, algorithms\n",
    "from deap import creator\n",
    "from deap import tools"
   ]
  },
  {
   "cell_type": "markdown",
   "id": "cb558428",
   "metadata": {},
   "source": [
    "Функция `creator.create(<название класса>, <базовый класс>, [атрибуты нового класса])` позволяет создавать новые объекты класса. Пример:"
   ]
  },
  {
   "cell_type": "code",
   "execution_count": 2,
   "id": "8fcc09db",
   "metadata": {},
   "outputs": [],
   "source": [
    "creator.create('Point', object, max_coord =10, min_coord=0, coords=list)"
   ]
  },
  {
   "cell_type": "markdown",
   "id": "e7553916",
   "metadata": {},
   "source": [
    "Неизменяемые свойства становятся атрибутами класса, а изменяемые - свойствами его экземпляров:\n",
    "\n",
    "    class Point(object):\n",
    "        max_coord = 10\n",
    "        min_coord = 0\n",
    "        \n",
    "        def __init__(self):\n",
    "            self.coords = list()"
   ]
  },
  {
   "cell_type": "markdown",
   "id": "c6ee1f06",
   "metadata": {},
   "source": [
    "    def sum_two(a, b):\n",
    "        return a + b\n",
    "        \n",
    "    toolbow = base.Toolbox()\n",
    "    \n",
    "    toolbox.register('sum_alias', sum_two) по сути создается псевдоним функции\n",
    "    \n",
    "    res = toolbox.sum_alias(5, 2)\n",
    "    \n",
    "    или\n",
    "    \n",
    "    toolbox.register('sum_2', sum_two, b = 2) \n",
    "    \n",
    "    res = toolbox.sum_2(5) "
   ]
  },
  {
   "cell_type": "markdown",
   "id": "faf7f2f8",
   "metadata": {},
   "source": [
    "# Решение задачи oneMax"
   ]
  },
  {
   "cell_type": "code",
   "execution_count": 3,
   "id": "0a687fa1",
   "metadata": {},
   "outputs": [],
   "source": [
    "import random\n",
    "import matplotlib.pyplot as plt\n",
    "import numpy as np"
   ]
  },
  {
   "cell_type": "code",
   "execution_count": 4,
   "id": "c2cbc5ef",
   "metadata": {},
   "outputs": [],
   "source": [
    "ONE_MAX_LENGTH = 100 # длинна хромосомы\n",
    "POPULATION_SIZE = 200 # число индивидуумов в популяции\n",
    "P_CROSSOVER = 0.9 # вероятность кроссинговера (скрещивания особей)\n",
    "P_MUTATION = 0.1 # вероятность мутации\n",
    "MAX_GENERATIONS = 50 # максимальное число поколений\n",
    "\n",
    "RANDOM_SEED = 42\n",
    "random.seed(RANDOM_SEED)"
   ]
  },
  {
   "cell_type": "code",
   "execution_count": 5,
   "id": "c030a5ce",
   "metadata": {},
   "outputs": [],
   "source": [
    "creator.create('FitnessMax', base.Fitness, weights=(1.0,))"
   ]
  },
  {
   "cell_type": "markdown",
   "id": "0778aafc",
   "metadata": {},
   "source": [
    "    values*weights = (values[0]*weights[0], values[1]*weights[1], ...)\n",
    "    \n",
    "    values считаются на основе функций и домножается на веса (в данном случае единица)\n",
    "    \n",
    "    в условиях когда нужно минимизировать функцию, вес нужно установить как -1, потому что алгоритм максимизирует функцию. С помощью этих весов можно управлять оптимизацией определенных криетериев в задаче"
   ]
  },
  {
   "cell_type": "code",
   "execution_count": 6,
   "id": "9732aef6",
   "metadata": {},
   "outputs": [],
   "source": [
    "creator.create('Individual', list, fitness=creator.FitnessMax)"
   ]
  },
  {
   "cell_type": "code",
   "execution_count": 7,
   "id": "26cdad34",
   "metadata": {},
   "outputs": [],
   "source": [
    "def oneMaxFitness(individual): \n",
    "    return sum(individual), # кортеж"
   ]
  },
  {
   "cell_type": "code",
   "execution_count": 8,
   "id": "64c26528",
   "metadata": {},
   "outputs": [],
   "source": [
    "toolbox = base.Toolbox()"
   ]
  },
  {
   "cell_type": "code",
   "execution_count": 9,
   "id": "58ca30cd",
   "metadata": {},
   "outputs": [],
   "source": [
    "toolbox.register('zeroOrOne', random.randint, 0, 1)"
   ]
  },
  {
   "cell_type": "code",
   "execution_count": 10,
   "id": "0b510562",
   "metadata": {},
   "outputs": [],
   "source": [
    "toolbox.register('individualCreator', tools.initRepeat, creator.Individual, toolbox.zeroOrOne, ONE_MAX_LENGTH)"
   ]
  },
  {
   "cell_type": "markdown",
   "id": "719e9dbb",
   "metadata": {},
   "source": [
    "    tools.initRepeat(<контейнер для хранения генов>, <функция генерации значения гена>, <число генов в хромосоме>)"
   ]
  },
  {
   "cell_type": "code",
   "execution_count": 11,
   "id": "26d5fa44",
   "metadata": {},
   "outputs": [],
   "source": [
    "toolbox.register('populationCreator', tools.initRepeat, list, toolbox.individualCreator)"
   ]
  },
  {
   "cell_type": "code",
   "execution_count": 12,
   "id": "5c0124ed",
   "metadata": {},
   "outputs": [],
   "source": [
    "population = toolbox.populationCreator(n = POPULATION_SIZE)"
   ]
  },
  {
   "cell_type": "code",
   "execution_count": 13,
   "id": "982a845e",
   "metadata": {},
   "outputs": [],
   "source": [
    "toolbox.register('evaluate', oneMaxFitness)"
   ]
  },
  {
   "cell_type": "code",
   "execution_count": 14,
   "id": "7c0c63ac",
   "metadata": {},
   "outputs": [],
   "source": [
    "toolbox.register('select', tools.selTournament, tournsize = 3)"
   ]
  },
  {
   "cell_type": "code",
   "execution_count": 15,
   "id": "65307e14",
   "metadata": {},
   "outputs": [],
   "source": [
    "toolbox.register('mate', tools.cxOnePoint)"
   ]
  },
  {
   "cell_type": "code",
   "execution_count": 16,
   "id": "bd88d8d3",
   "metadata": {},
   "outputs": [],
   "source": [
    "toolbox.register('mutate', tools.mutFlipBit, indpb = 1.0 / ONE_MAX_LENGTH)"
   ]
  },
  {
   "cell_type": "code",
   "execution_count": 17,
   "id": "7ade610e",
   "metadata": {},
   "outputs": [],
   "source": [
    "stats = tools.Statistics(lambda ind: ind.fitness.values)"
   ]
  },
  {
   "cell_type": "code",
   "execution_count": 18,
   "id": "6c45d108",
   "metadata": {},
   "outputs": [],
   "source": [
    "stats.register('max', np.max)\n",
    "stats.register('avg', np.mean)"
   ]
  },
  {
   "cell_type": "code",
   "execution_count": 19,
   "id": "f8290efb",
   "metadata": {},
   "outputs": [
    {
     "name": "stdout",
     "output_type": "stream",
     "text": [
      "gen\tnevals\tmax\tavg   \n",
      "0  \t200   \t61 \t49.695\n",
      "1  \t193   \t65 \t53.575\n",
      "2  \t179   \t66 \t56.855\n",
      "3  \t187   \t69 \t59.42 \n",
      "4  \t184   \t70 \t62.03 \n",
      "5  \t188   \t75 \t64.715\n",
      "6  \t176   \t75 \t67.515\n",
      "7  \t184   \t77 \t70.215\n",
      "8  \t180   \t81 \t72.475\n",
      "9  \t174   \t82 \t74.79 \n",
      "10 \t172   \t85 \t76.685\n",
      "11 \t177   \t85 \t78.46 \n",
      "12 \t178   \t87 \t80.265\n",
      "13 \t178   \t87 \t81.8  \n",
      "14 \t184   \t87 \t83.15 \n",
      "15 \t181   \t89 \t84.4  \n",
      "16 \t185   \t89 \t85.59 \n",
      "17 \t174   \t90 \t86.755\n",
      "18 \t186   \t91 \t87.715\n",
      "19 \t184   \t92 \t88.495\n",
      "20 \t178   \t92 \t89.275\n",
      "21 \t176   \t93 \t90.04 \n",
      "22 \t185   \t94 \t90.865\n",
      "23 \t180   \t94 \t91.645\n",
      "24 \t177   \t95 \t92.69 \n",
      "25 \t191   \t95 \t93.325\n",
      "26 \t169   \t95 \t93.935\n",
      "27 \t184   \t96 \t94.39 \n",
      "28 \t184   \t96 \t94.84 \n",
      "29 \t179   \t96 \t95.07 \n",
      "30 \t183   \t97 \t95.325\n",
      "31 \t180   \t97 \t95.69 \n",
      "32 \t189   \t97 \t95.93 \n",
      "33 \t177   \t97 \t96.085\n",
      "34 \t188   \t98 \t96.325\n",
      "35 \t169   \t98 \t96.835\n",
      "36 \t182   \t98 \t97.18 \n",
      "37 \t183   \t99 \t97.655\n",
      "38 \t182   \t99 \t97.91 \n",
      "39 \t192   \t99 \t98.04 \n",
      "40 \t173   \t100\t98.29 \n",
      "41 \t182   \t100\t98.55 \n",
      "42 \t176   \t100\t98.915\n",
      "43 \t188   \t100\t99.195\n",
      "44 \t192   \t100\t99.595\n",
      "45 \t193   \t100\t99.82 \n",
      "46 \t189   \t100\t99.82 \n",
      "47 \t189   \t100\t99.895\n",
      "48 \t190   \t100\t99.875\n",
      "49 \t187   \t100\t99.83 \n",
      "50 \t184   \t100\t99.89 \n"
     ]
    },
    {
     "data": {
      "image/png": "[encoded data removed]",
      "text/plain": [
       "<Figure size 640x480 with 1 Axes>"
      ]
     },
     "metadata": {},
     "output_type": "display_data"
    }
   ],
   "source": [
    "population, logbook = algorithms.eaSimple(population, \n",
    "                                          toolbox, \n",
    "                                          cxpb=P_CROSSOVER, \n",
    "                                          mutpb=P_MUTATION, \n",
    "                                          ngen=MAX_GENERATIONS, \n",
    "                                          stats=stats,\n",
    "                                          verbose=True)\n",
    "\n",
    "\n",
    "maxFitnessValues, meanFitnessValues = logbook.select('max', 'avg')\n",
    "\n",
    "plt.plot(maxFitnessValues, color='red')\n",
    "plt.plot(meanFitnessValues, color='green')\n",
    "plt.xlabel('Поколение')\n",
    "plt.ylabel('Приспособленность особи')\n",
    "plt.title('Зависимость максимальной и средней приспособленности от поколения')\n",
    "plt.show()"
   ]
  }
 ],
 "metadata": {
  "kernelspec": {
   "display_name": "Python 3 (ipykernel)",
   "language": "python",
   "name": "python3"
  },
  "language_info": {
   "codemirror_mode": {
    "name": "ipython",
    "version": 3
   },
   "file_extension": ".py",
   "mimetype": "text/x-python",
   "name": "python",
   "nbconvert_exporter": "python",
   "pygments_lexer": "ipython3",
   "version": "3.9.13"
  }
 },
 "nbformat": 4,
 "nbformat_minor": 5
}
